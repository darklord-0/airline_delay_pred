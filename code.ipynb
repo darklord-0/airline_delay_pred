{
 "cells": [
  {
   "cell_type": "code",
   "execution_count": 28,
   "metadata": {},
   "outputs": [],
   "source": [
    "import numpy as np\n",
    "import pandas as pd\n",
    "import matplotlib.pyplot as plt\n",
    "from sklearn import preprocessing\n",
    "from sklearn.metrics import accuracy_score,precision_score,recall_score,f1_score"
   ]
  },
  {
   "cell_type": "code",
   "execution_count": 29,
   "metadata": {},
   "outputs": [
    {
     "data": {
      "text/html": [
       "<div>\n",
       "<style scoped>\n",
       "    .dataframe tbody tr th:only-of-type {\n",
       "        vertical-align: middle;\n",
       "    }\n",
       "\n",
       "    .dataframe tbody tr th {\n",
       "        vertical-align: top;\n",
       "    }\n",
       "\n",
       "    .dataframe thead th {\n",
       "        text-align: right;\n",
       "    }\n",
       "</style>\n",
       "<table border=\"1\" class=\"dataframe\">\n",
       "  <thead>\n",
       "    <tr style=\"text-align: right;\">\n",
       "      <th></th>\n",
       "      <th>id</th>\n",
       "      <th>Airline</th>\n",
       "      <th>Flight</th>\n",
       "      <th>AirportFrom</th>\n",
       "      <th>AirportTo</th>\n",
       "      <th>DayOfWeek</th>\n",
       "      <th>Time</th>\n",
       "      <th>Length</th>\n",
       "      <th>Delay</th>\n",
       "    </tr>\n",
       "  </thead>\n",
       "  <tbody>\n",
       "    <tr>\n",
       "      <th>0</th>\n",
       "      <td>1</td>\n",
       "      <td>CO</td>\n",
       "      <td>269</td>\n",
       "      <td>SFO</td>\n",
       "      <td>IAH</td>\n",
       "      <td>3</td>\n",
       "      <td>15</td>\n",
       "      <td>205</td>\n",
       "      <td>1</td>\n",
       "    </tr>\n",
       "    <tr>\n",
       "      <th>1</th>\n",
       "      <td>2</td>\n",
       "      <td>US</td>\n",
       "      <td>1558</td>\n",
       "      <td>PHX</td>\n",
       "      <td>CLT</td>\n",
       "      <td>3</td>\n",
       "      <td>15</td>\n",
       "      <td>222</td>\n",
       "      <td>1</td>\n",
       "    </tr>\n",
       "    <tr>\n",
       "      <th>2</th>\n",
       "      <td>3</td>\n",
       "      <td>AA</td>\n",
       "      <td>2400</td>\n",
       "      <td>LAX</td>\n",
       "      <td>DFW</td>\n",
       "      <td>3</td>\n",
       "      <td>20</td>\n",
       "      <td>165</td>\n",
       "      <td>1</td>\n",
       "    </tr>\n",
       "    <tr>\n",
       "      <th>3</th>\n",
       "      <td>4</td>\n",
       "      <td>AA</td>\n",
       "      <td>2466</td>\n",
       "      <td>SFO</td>\n",
       "      <td>DFW</td>\n",
       "      <td>3</td>\n",
       "      <td>20</td>\n",
       "      <td>195</td>\n",
       "      <td>1</td>\n",
       "    </tr>\n",
       "    <tr>\n",
       "      <th>4</th>\n",
       "      <td>5</td>\n",
       "      <td>AS</td>\n",
       "      <td>108</td>\n",
       "      <td>ANC</td>\n",
       "      <td>SEA</td>\n",
       "      <td>3</td>\n",
       "      <td>30</td>\n",
       "      <td>202</td>\n",
       "      <td>0</td>\n",
       "    </tr>\n",
       "  </tbody>\n",
       "</table>\n",
       "</div>"
      ],
      "text/plain": [
       "   id Airline  Flight AirportFrom AirportTo  DayOfWeek  Time  Length  Delay\n",
       "0   1      CO     269         SFO       IAH          3    15     205      1\n",
       "1   2      US    1558         PHX       CLT          3    15     222      1\n",
       "2   3      AA    2400         LAX       DFW          3    20     165      1\n",
       "3   4      AA    2466         SFO       DFW          3    20     195      1\n",
       "4   5      AS     108         ANC       SEA          3    30     202      0"
      ]
     },
     "execution_count": 29,
     "metadata": {},
     "output_type": "execute_result"
    }
   ],
   "source": [
    "df = pd.read_csv('Airlines.csv')\n",
    "df.head()"
   ]
  },
  {
   "cell_type": "code",
   "execution_count": 30,
   "metadata": {},
   "outputs": [
    {
     "name": "stdout",
     "output_type": "stream",
     "text": [
      "<class 'pandas.core.frame.DataFrame'>\n",
      "RangeIndex: 5999 entries, 0 to 5998\n",
      "Data columns (total 9 columns):\n",
      " #   Column       Non-Null Count  Dtype \n",
      "---  ------       --------------  ----- \n",
      " 0   id           5999 non-null   int64 \n",
      " 1   Airline      5999 non-null   object\n",
      " 2   Flight       5999 non-null   int64 \n",
      " 3   AirportFrom  5999 non-null   object\n",
      " 4   AirportTo    5999 non-null   object\n",
      " 5   DayOfWeek    5999 non-null   int64 \n",
      " 6   Time         5999 non-null   int64 \n",
      " 7   Length       5999 non-null   int64 \n",
      " 8   Delay        5999 non-null   int64 \n",
      "dtypes: int64(6), object(3)\n",
      "memory usage: 421.9+ KB\n"
     ]
    }
   ],
   "source": [
    "df.info()"
   ]
  },
  {
   "cell_type": "code",
   "execution_count": 31,
   "metadata": {},
   "outputs": [
    {
     "data": {
      "text/html": [
       "<div>\n",
       "<style scoped>\n",
       "    .dataframe tbody tr th:only-of-type {\n",
       "        vertical-align: middle;\n",
       "    }\n",
       "\n",
       "    .dataframe tbody tr th {\n",
       "        vertical-align: top;\n",
       "    }\n",
       "\n",
       "    .dataframe thead th {\n",
       "        text-align: right;\n",
       "    }\n",
       "</style>\n",
       "<table border=\"1\" class=\"dataframe\">\n",
       "  <thead>\n",
       "    <tr style=\"text-align: right;\">\n",
       "      <th></th>\n",
       "      <th>id</th>\n",
       "      <th>Flight</th>\n",
       "      <th>DayOfWeek</th>\n",
       "      <th>Time</th>\n",
       "      <th>Length</th>\n",
       "      <th>Delay</th>\n",
       "    </tr>\n",
       "  </thead>\n",
       "  <tbody>\n",
       "    <tr>\n",
       "      <th>count</th>\n",
       "      <td>5999.000000</td>\n",
       "      <td>5999.000000</td>\n",
       "      <td>5999.0</td>\n",
       "      <td>5999.000000</td>\n",
       "      <td>5999.000000</td>\n",
       "      <td>5999.000000</td>\n",
       "    </tr>\n",
       "    <tr>\n",
       "      <th>mean</th>\n",
       "      <td>3000.000000</td>\n",
       "      <td>2402.031172</td>\n",
       "      <td>3.0</td>\n",
       "      <td>490.886648</td>\n",
       "      <td>133.032505</td>\n",
       "      <td>0.352392</td>\n",
       "    </tr>\n",
       "    <tr>\n",
       "      <th>std</th>\n",
       "      <td>1731.906464</td>\n",
       "      <td>2080.854442</td>\n",
       "      <td>0.0</td>\n",
       "      <td>94.426539</td>\n",
       "      <td>70.059476</td>\n",
       "      <td>0.477755</td>\n",
       "    </tr>\n",
       "    <tr>\n",
       "      <th>min</th>\n",
       "      <td>1.000000</td>\n",
       "      <td>1.000000</td>\n",
       "      <td>3.0</td>\n",
       "      <td>15.000000</td>\n",
       "      <td>24.000000</td>\n",
       "      <td>0.000000</td>\n",
       "    </tr>\n",
       "    <tr>\n",
       "      <th>25%</th>\n",
       "      <td>1500.500000</td>\n",
       "      <td>703.000000</td>\n",
       "      <td>3.0</td>\n",
       "      <td>420.000000</td>\n",
       "      <td>82.000000</td>\n",
       "      <td>0.000000</td>\n",
       "    </tr>\n",
       "    <tr>\n",
       "      <th>50%</th>\n",
       "      <td>3000.000000</td>\n",
       "      <td>1734.000000</td>\n",
       "      <td>3.0</td>\n",
       "      <td>495.000000</td>\n",
       "      <td>115.000000</td>\n",
       "      <td>0.000000</td>\n",
       "    </tr>\n",
       "    <tr>\n",
       "      <th>75%</th>\n",
       "      <td>4499.500000</td>\n",
       "      <td>3745.500000</td>\n",
       "      <td>3.0</td>\n",
       "      <td>570.000000</td>\n",
       "      <td>164.000000</td>\n",
       "      <td>1.000000</td>\n",
       "    </tr>\n",
       "    <tr>\n",
       "      <th>max</th>\n",
       "      <td>5999.000000</td>\n",
       "      <td>7801.000000</td>\n",
       "      <td>3.0</td>\n",
       "      <td>652.000000</td>\n",
       "      <td>620.000000</td>\n",
       "      <td>1.000000</td>\n",
       "    </tr>\n",
       "  </tbody>\n",
       "</table>\n",
       "</div>"
      ],
      "text/plain": [
       "                id       Flight  DayOfWeek         Time       Length   \n",
       "count  5999.000000  5999.000000     5999.0  5999.000000  5999.000000  \\\n",
       "mean   3000.000000  2402.031172        3.0   490.886648   133.032505   \n",
       "std    1731.906464  2080.854442        0.0    94.426539    70.059476   \n",
       "min       1.000000     1.000000        3.0    15.000000    24.000000   \n",
       "25%    1500.500000   703.000000        3.0   420.000000    82.000000   \n",
       "50%    3000.000000  1734.000000        3.0   495.000000   115.000000   \n",
       "75%    4499.500000  3745.500000        3.0   570.000000   164.000000   \n",
       "max    5999.000000  7801.000000        3.0   652.000000   620.000000   \n",
       "\n",
       "             Delay  \n",
       "count  5999.000000  \n",
       "mean      0.352392  \n",
       "std       0.477755  \n",
       "min       0.000000  \n",
       "25%       0.000000  \n",
       "50%       0.000000  \n",
       "75%       1.000000  \n",
       "max       1.000000  "
      ]
     },
     "execution_count": 31,
     "metadata": {},
     "output_type": "execute_result"
    }
   ],
   "source": [
    "df.describe()"
   ]
  },
  {
   "attachments": {},
   "cell_type": "markdown",
   "metadata": {},
   "source": [
    "Data Cleaning"
   ]
  },
  {
   "cell_type": "code",
   "execution_count": 32,
   "metadata": {},
   "outputs": [
    {
     "name": "stdout",
     "output_type": "stream",
     "text": [
      "[3]\n"
     ]
    }
   ],
   "source": [
    "print(df['DayOfWeek'].unique())"
   ]
  },
  {
   "cell_type": "code",
   "execution_count": 33,
   "metadata": {},
   "outputs": [
    {
     "name": "stdout",
     "output_type": "stream",
     "text": [
      "Before:  Index(['id', 'Airline', 'Flight', 'AirportFrom', 'AirportTo', 'DayOfWeek',\n",
      "       'Time', 'Length', 'Delay'],\n",
      "      dtype='object')\n",
      "\n",
      "After:  Index(['Airline', 'Flight', 'AirportFrom', 'AirportTo', 'Time', 'Length',\n",
      "       'Delay'],\n",
      "      dtype='object')\n"
     ]
    }
   ],
   "source": [
    "print(\"Before: \",df.columns)\n",
    "df = df.drop(['id','DayOfWeek'], axis=1)\n",
    "print(\"\\nAfter: \",df.columns)"
   ]
  },
  {
   "cell_type": "code",
   "execution_count": 34,
   "metadata": {},
   "outputs": [
    {
     "data": {
      "text/html": [
       "<div>\n",
       "<style scoped>\n",
       "    .dataframe tbody tr th:only-of-type {\n",
       "        vertical-align: middle;\n",
       "    }\n",
       "\n",
       "    .dataframe tbody tr th {\n",
       "        vertical-align: top;\n",
       "    }\n",
       "\n",
       "    .dataframe thead th {\n",
       "        text-align: right;\n",
       "    }\n",
       "</style>\n",
       "<table border=\"1\" class=\"dataframe\">\n",
       "  <thead>\n",
       "    <tr style=\"text-align: right;\">\n",
       "      <th></th>\n",
       "      <th>Airline</th>\n",
       "      <th>Flight</th>\n",
       "      <th>AirportFrom</th>\n",
       "      <th>AirportTo</th>\n",
       "      <th>Time</th>\n",
       "      <th>Length</th>\n",
       "      <th>Delay</th>\n",
       "    </tr>\n",
       "  </thead>\n",
       "  <tbody>\n",
       "    <tr>\n",
       "      <th>0</th>\n",
       "      <td>CO</td>\n",
       "      <td>269</td>\n",
       "      <td>SFO</td>\n",
       "      <td>IAH</td>\n",
       "      <td>15</td>\n",
       "      <td>205</td>\n",
       "      <td>1</td>\n",
       "    </tr>\n",
       "    <tr>\n",
       "      <th>1</th>\n",
       "      <td>US</td>\n",
       "      <td>1558</td>\n",
       "      <td>PHX</td>\n",
       "      <td>CLT</td>\n",
       "      <td>15</td>\n",
       "      <td>222</td>\n",
       "      <td>1</td>\n",
       "    </tr>\n",
       "    <tr>\n",
       "      <th>2</th>\n",
       "      <td>AA</td>\n",
       "      <td>2400</td>\n",
       "      <td>LAX</td>\n",
       "      <td>DFW</td>\n",
       "      <td>20</td>\n",
       "      <td>165</td>\n",
       "      <td>1</td>\n",
       "    </tr>\n",
       "    <tr>\n",
       "      <th>3</th>\n",
       "      <td>AA</td>\n",
       "      <td>2466</td>\n",
       "      <td>SFO</td>\n",
       "      <td>DFW</td>\n",
       "      <td>20</td>\n",
       "      <td>195</td>\n",
       "      <td>1</td>\n",
       "    </tr>\n",
       "    <tr>\n",
       "      <th>4</th>\n",
       "      <td>AS</td>\n",
       "      <td>108</td>\n",
       "      <td>ANC</td>\n",
       "      <td>SEA</td>\n",
       "      <td>30</td>\n",
       "      <td>202</td>\n",
       "      <td>0</td>\n",
       "    </tr>\n",
       "    <tr>\n",
       "      <th>...</th>\n",
       "      <td>...</td>\n",
       "      <td>...</td>\n",
       "      <td>...</td>\n",
       "      <td>...</td>\n",
       "      <td>...</td>\n",
       "      <td>...</td>\n",
       "      <td>...</td>\n",
       "    </tr>\n",
       "    <tr>\n",
       "      <th>5994</th>\n",
       "      <td>XE</td>\n",
       "      <td>2088</td>\n",
       "      <td>MAF</td>\n",
       "      <td>IAH</td>\n",
       "      <td>651</td>\n",
       "      <td>84</td>\n",
       "      <td>1</td>\n",
       "    </tr>\n",
       "    <tr>\n",
       "      <th>5995</th>\n",
       "      <td>9E</td>\n",
       "      <td>3789</td>\n",
       "      <td>ICT</td>\n",
       "      <td>ATL</td>\n",
       "      <td>652</td>\n",
       "      <td>132</td>\n",
       "      <td>0</td>\n",
       "    </tr>\n",
       "    <tr>\n",
       "      <th>5996</th>\n",
       "      <td>FL</td>\n",
       "      <td>104</td>\n",
       "      <td>DFW</td>\n",
       "      <td>ATL</td>\n",
       "      <td>652</td>\n",
       "      <td>118</td>\n",
       "      <td>0</td>\n",
       "    </tr>\n",
       "    <tr>\n",
       "      <th>5997</th>\n",
       "      <td>OO</td>\n",
       "      <td>6499</td>\n",
       "      <td>SJC</td>\n",
       "      <td>LAX</td>\n",
       "      <td>652</td>\n",
       "      <td>79</td>\n",
       "      <td>0</td>\n",
       "    </tr>\n",
       "    <tr>\n",
       "      <th>5998</th>\n",
       "      <td>OO</td>\n",
       "      <td>6846</td>\n",
       "      <td>SFO</td>\n",
       "      <td>SBA</td>\n",
       "      <td>652</td>\n",
       "      <td>76</td>\n",
       "      <td>1</td>\n",
       "    </tr>\n",
       "  </tbody>\n",
       "</table>\n",
       "<p>5999 rows × 7 columns</p>\n",
       "</div>"
      ],
      "text/plain": [
       "     Airline  Flight AirportFrom AirportTo  Time  Length  Delay\n",
       "0         CO     269         SFO       IAH    15     205      1\n",
       "1         US    1558         PHX       CLT    15     222      1\n",
       "2         AA    2400         LAX       DFW    20     165      1\n",
       "3         AA    2466         SFO       DFW    20     195      1\n",
       "4         AS     108         ANC       SEA    30     202      0\n",
       "...      ...     ...         ...       ...   ...     ...    ...\n",
       "5994      XE    2088         MAF       IAH   651      84      1\n",
       "5995      9E    3789         ICT       ATL   652     132      0\n",
       "5996      FL     104         DFW       ATL   652     118      0\n",
       "5997      OO    6499         SJC       LAX   652      79      0\n",
       "5998      OO    6846         SFO       SBA   652      76      1\n",
       "\n",
       "[5999 rows x 7 columns]"
      ]
     },
     "execution_count": 34,
     "metadata": {},
     "output_type": "execute_result"
    }
   ],
   "source": [
    "df"
   ]
  },
  {
   "cell_type": "code",
   "execution_count": 35,
   "metadata": {},
   "outputs": [
    {
     "name": "stdout",
     "output_type": "stream",
     "text": [
      "Airline        0\n",
      "Flight         0\n",
      "AirportFrom    0\n",
      "AirportTo      0\n",
      "Time           0\n",
      "Length         0\n",
      "Delay          0\n",
      "dtype: int64\n",
      "\n",
      "Duplicate values count:  0\n"
     ]
    }
   ],
   "source": [
    "# Now that we have a brief overview of our data, \n",
    "# we will see if we need to do any cleaning by checking\n",
    "# if theres any null values or duplicate values. \n",
    "# There doesn't seem to be anything wrong with the type our columns are.\n",
    "\n",
    "print(df.isnull().sum() )\n",
    "\n",
    "print(\"\\nDuplicate values count: \",df.duplicated().sum())"
   ]
  },
  {
   "cell_type": "code",
   "execution_count": 36,
   "metadata": {},
   "outputs": [
    {
     "name": "stdout",
     "output_type": "stream",
     "text": [
      "Different Airlines:  ['CO' 'US' 'AA' 'AS' 'DL' 'B6' 'HA' 'OO' '9E' 'OH' 'EV' 'XE' 'YV' 'UA'\n",
      " 'MQ' 'FL' 'F9' 'WN']\n",
      "18\n",
      "Different AirportFrom: 271\n",
      "Different AirportTo: 250\n"
     ]
    }
   ],
   "source": [
    "dist_airlines = df['Airline'].unique()\n",
    "\n",
    "print(\"Different Airlines: \",dist_airlines)\n",
    "print(len(dist_airlines))\n",
    "\n",
    "print(\"Different AirportFrom:\",df['AirportFrom'].nunique())\n",
    "print(\"Different AirportTo:\",df['AirportTo'].nunique())"
   ]
  },
  {
   "attachments": {},
   "cell_type": "markdown",
   "metadata": {},
   "source": [
    "Graph Analysis"
   ]
  },
  {
   "cell_type": "code",
   "execution_count": 37,
   "metadata": {},
   "outputs": [
    {
     "data": {
      "text/plain": [
       "<AxesSubplot:xlabel='Airline', ylabel='Delay'>"
      ]
     },
     "execution_count": 37,
     "metadata": {},
     "output_type": "execute_result"
    },
    {
     "data": {
      "image/png": "[encoded data removed]",
      "text/plain": [
       "<Figure size 640x480 with 1 Axes>"
      ]
     },
     "metadata": {},
     "output_type": "display_data"
    }
   ],
   "source": [
    "\n",
    "import seaborn as sb\n",
    "# It looks like each airline has different amounts of delays. \n",
    "# Some airlines are more likely to have delays compared to other airlines. \n",
    "# For example, the WN airline are delayed about 70% of the time they \n",
    "# have a flight.\n",
    "\n",
    "sb.barplot(x= df['Airline'], y = df['Delay'])"
   ]
  },
  {
   "cell_type": "code",
   "execution_count": 38,
   "metadata": {},
   "outputs": [
    {
     "data": {
      "text/plain": [
       "<AxesSubplot:xlabel='Airline', ylabel='Length'>"
      ]
     },
     "execution_count": 38,
     "metadata": {},
     "output_type": "execute_result"
    },
    {
     "data": {
      "image/png": "[encoded data removed]",
      "text/plain": [
       "<Figure size 640x480 with 1 Axes>"
      ]
     },
     "metadata": {},
     "output_type": "display_data"
    }
   ],
   "source": [
    "\n",
    "# One thing that can be seen is that for all the airlines, \n",
    "# the flight length when there is a delay are always higher than \n",
    "# the flight length when there is no delay.\n",
    "\n",
    "\n",
    "import seaborn as sb\n",
    "\n",
    "sb.barplot(x = df['Airline'], y = df['Length'], hue = df['Delay'])"
   ]
  },
  {
   "cell_type": "code",
   "execution_count": 39,
   "metadata": {},
   "outputs": [
    {
     "data": {
      "text/plain": [
       "Text(0.5, 1.0, 'Distribution of Length')"
      ]
     },
     "execution_count": 39,
     "metadata": {},
     "output_type": "execute_result"
    },
    {
     "data": {
      "image/png": "[encoded data removed]",
      "text/plain": [
       "<Figure size 640x480 with 1 Axes>"
      ]
     },
     "metadata": {},
     "output_type": "display_data"
    }
   ],
   "source": [
    "import seaborn as sns\n",
    "\n",
    "sns.countplot(x='Airline',data=df)\n",
    "plt.xlabel('Airline')\n",
    "plt.ylabel('Count')\n",
    "plt.title('Distribution of Length')"
   ]
  },
  {
   "cell_type": "code",
   "execution_count": 40,
   "metadata": {},
   "outputs": [
    {
     "data": {
      "image/png": "[encoded data removed]",
      "text/plain": [
       "<Figure size 640x480 with 1 Axes>"
      ]
     },
     "metadata": {},
     "output_type": "display_data"
    }
   ],
   "source": [
    "import seaborn as sns\n",
    "\n",
    "sns.countplot(x='Delay', data=df)\n",
    "plt.title('Delay Distribution')\n",
    "plt.xlabel('Delay')\n",
    "plt.ylabel('Count')\n",
    "plt.show()\n"
   ]
  },
  {
   "cell_type": "code",
   "execution_count": 41,
   "metadata": {},
   "outputs": [
    {
     "data": {
      "image/png": "[encoded data removed]",
      "text/plain": [
       "<Figure size 640x480 with 1 Axes>"
      ]
     },
     "metadata": {},
     "output_type": "display_data"
    }
   ],
   "source": [
    "plt.hist(df['Length'], bins=10)\n",
    "plt.title('Flight Length Histogram')\n",
    "plt.xlabel('Length')\n",
    "plt.ylabel('Frequency')\n",
    "plt.show()\n"
   ]
  },
  {
   "cell_type": "code",
   "execution_count": 42,
   "metadata": {},
   "outputs": [
    {
     "data": {
      "image/png": "[encoded data removed]",
      "text/plain": [
       "<Figure size 1000x600 with 1 Axes>"
      ]
     },
     "metadata": {},
     "output_type": "display_data"
    }
   ],
   "source": [
    "plt.figure(figsize=(10, 6))\n",
    "sns.boxplot(x='Airline', y='Length', data=df)\n",
    "plt.title('Flight Length by Airline')\n",
    "plt.xlabel('Airline')\n",
    "plt.ylabel('Length')\n",
    "plt.xticks(rotation=90)\n",
    "plt.show()\n"
   ]
  },
  {
   "cell_type": "code",
   "execution_count": 43,
   "metadata": {},
   "outputs": [
    {
     "data": {
      "image/png": "[encoded data removed]",
      "text/plain": [
       "<Figure size 640x480 with 1 Axes>"
      ]
     },
     "metadata": {},
     "output_type": "display_data"
    }
   ],
   "source": [
    "plt.scatter(df['Time'], df['Length'])\n",
    "plt.title('Flight Length vs. Time')\n",
    "plt.xlabel('Time')\n",
    "plt.ylabel('Length')\n",
    "plt.show()\n"
   ]
  },
  {
   "attachments": {},
   "cell_type": "markdown",
   "metadata": {},
   "source": [
    "\n",
    "DATA PREPROCESSING\n"
   ]
  },
  {
   "cell_type": "code",
   "execution_count": 44,
   "metadata": {},
   "outputs": [
    {
     "data": {
      "text/html": [
       "<div>\n",
       "<style scoped>\n",
       "    .dataframe tbody tr th:only-of-type {\n",
       "        vertical-align: middle;\n",
       "    }\n",
       "\n",
       "    .dataframe tbody tr th {\n",
       "        vertical-align: top;\n",
       "    }\n",
       "\n",
       "    .dataframe thead th {\n",
       "        text-align: right;\n",
       "    }\n",
       "</style>\n",
       "<table border=\"1\" class=\"dataframe\">\n",
       "  <thead>\n",
       "    <tr style=\"text-align: right;\">\n",
       "      <th></th>\n",
       "      <th>Airline</th>\n",
       "      <th>Flight</th>\n",
       "      <th>AirportFrom</th>\n",
       "      <th>AirportTo</th>\n",
       "      <th>Time</th>\n",
       "      <th>Length</th>\n",
       "      <th>Delay</th>\n",
       "    </tr>\n",
       "  </thead>\n",
       "  <tbody>\n",
       "    <tr>\n",
       "      <th>0</th>\n",
       "      <td>CO</td>\n",
       "      <td>269</td>\n",
       "      <td>SFO</td>\n",
       "      <td>IAH</td>\n",
       "      <td>15</td>\n",
       "      <td>205</td>\n",
       "      <td>1</td>\n",
       "    </tr>\n",
       "    <tr>\n",
       "      <th>1</th>\n",
       "      <td>US</td>\n",
       "      <td>1558</td>\n",
       "      <td>PHX</td>\n",
       "      <td>CLT</td>\n",
       "      <td>15</td>\n",
       "      <td>222</td>\n",
       "      <td>1</td>\n",
       "    </tr>\n",
       "    <tr>\n",
       "      <th>2</th>\n",
       "      <td>AA</td>\n",
       "      <td>2400</td>\n",
       "      <td>LAX</td>\n",
       "      <td>DFW</td>\n",
       "      <td>20</td>\n",
       "      <td>165</td>\n",
       "      <td>1</td>\n",
       "    </tr>\n",
       "  </tbody>\n",
       "</table>\n",
       "</div>"
      ],
      "text/plain": [
       "  Airline  Flight AirportFrom AirportTo  Time  Length  Delay\n",
       "0      CO     269         SFO       IAH    15     205      1\n",
       "1      US    1558         PHX       CLT    15     222      1\n",
       "2      AA    2400         LAX       DFW    20     165      1"
      ]
     },
     "execution_count": 44,
     "metadata": {},
     "output_type": "execute_result"
    }
   ],
   "source": [
    "df[:3]"
   ]
  },
  {
   "cell_type": "code",
   "execution_count": 45,
   "metadata": {},
   "outputs": [],
   "source": [
    "X_cat = df[['Airline', 'AirportFrom', 'AirportTo']]\n",
    "X_num = df.drop(['Airline', 'AirportFrom', 'AirportTo', 'Delay'], axis=1)\n",
    "\n",
    "X_cat = pd.get_dummies(X_cat, drop_first=True)"
   ]
  },
  {
   "cell_type": "code",
   "execution_count": 46,
   "metadata": {},
   "outputs": [
    {
     "data": {
      "text/html": [
       "<div>\n",
       "<style scoped>\n",
       "    .dataframe tbody tr th:only-of-type {\n",
       "        vertical-align: middle;\n",
       "    }\n",
       "\n",
       "    .dataframe tbody tr th {\n",
       "        vertical-align: top;\n",
       "    }\n",
       "\n",
       "    .dataframe thead th {\n",
       "        text-align: right;\n",
       "    }\n",
       "</style>\n",
       "<table border=\"1\" class=\"dataframe\">\n",
       "  <thead>\n",
       "    <tr style=\"text-align: right;\">\n",
       "      <th></th>\n",
       "      <th>Airline_AA</th>\n",
       "      <th>Airline_AS</th>\n",
       "      <th>Airline_B6</th>\n",
       "      <th>Airline_CO</th>\n",
       "      <th>Airline_DL</th>\n",
       "      <th>Airline_EV</th>\n",
       "      <th>Airline_F9</th>\n",
       "      <th>Airline_FL</th>\n",
       "      <th>Airline_HA</th>\n",
       "      <th>Airline_MQ</th>\n",
       "      <th>...</th>\n",
       "      <th>AirportTo_TWF</th>\n",
       "      <th>AirportTo_TXK</th>\n",
       "      <th>AirportTo_TYR</th>\n",
       "      <th>AirportTo_TYS</th>\n",
       "      <th>AirportTo_VLD</th>\n",
       "      <th>AirportTo_VPS</th>\n",
       "      <th>AirportTo_WRG</th>\n",
       "      <th>AirportTo_XNA</th>\n",
       "      <th>AirportTo_YAK</th>\n",
       "      <th>AirportTo_YUM</th>\n",
       "    </tr>\n",
       "  </thead>\n",
       "  <tbody>\n",
       "    <tr>\n",
       "      <th>0</th>\n",
       "      <td>False</td>\n",
       "      <td>False</td>\n",
       "      <td>False</td>\n",
       "      <td>True</td>\n",
       "      <td>False</td>\n",
       "      <td>False</td>\n",
       "      <td>False</td>\n",
       "      <td>False</td>\n",
       "      <td>False</td>\n",
       "      <td>False</td>\n",
       "      <td>...</td>\n",
       "      <td>False</td>\n",
       "      <td>False</td>\n",
       "      <td>False</td>\n",
       "      <td>False</td>\n",
       "      <td>False</td>\n",
       "      <td>False</td>\n",
       "      <td>False</td>\n",
       "      <td>False</td>\n",
       "      <td>False</td>\n",
       "      <td>False</td>\n",
       "    </tr>\n",
       "    <tr>\n",
       "      <th>1</th>\n",
       "      <td>False</td>\n",
       "      <td>False</td>\n",
       "      <td>False</td>\n",
       "      <td>False</td>\n",
       "      <td>False</td>\n",
       "      <td>False</td>\n",
       "      <td>False</td>\n",
       "      <td>False</td>\n",
       "      <td>False</td>\n",
       "      <td>False</td>\n",
       "      <td>...</td>\n",
       "      <td>False</td>\n",
       "      <td>False</td>\n",
       "      <td>False</td>\n",
       "      <td>False</td>\n",
       "      <td>False</td>\n",
       "      <td>False</td>\n",
       "      <td>False</td>\n",
       "      <td>False</td>\n",
       "      <td>False</td>\n",
       "      <td>False</td>\n",
       "    </tr>\n",
       "    <tr>\n",
       "      <th>2</th>\n",
       "      <td>True</td>\n",
       "      <td>False</td>\n",
       "      <td>False</td>\n",
       "      <td>False</td>\n",
       "      <td>False</td>\n",
       "      <td>False</td>\n",
       "      <td>False</td>\n",
       "      <td>False</td>\n",
       "      <td>False</td>\n",
       "      <td>False</td>\n",
       "      <td>...</td>\n",
       "      <td>False</td>\n",
       "      <td>False</td>\n",
       "      <td>False</td>\n",
       "      <td>False</td>\n",
       "      <td>False</td>\n",
       "      <td>False</td>\n",
       "      <td>False</td>\n",
       "      <td>False</td>\n",
       "      <td>False</td>\n",
       "      <td>False</td>\n",
       "    </tr>\n",
       "    <tr>\n",
       "      <th>3</th>\n",
       "      <td>True</td>\n",
       "      <td>False</td>\n",
       "      <td>False</td>\n",
       "      <td>False</td>\n",
       "      <td>False</td>\n",
       "      <td>False</td>\n",
       "      <td>False</td>\n",
       "      <td>False</td>\n",
       "      <td>False</td>\n",
       "      <td>False</td>\n",
       "      <td>...</td>\n",
       "      <td>False</td>\n",
       "      <td>False</td>\n",
       "      <td>False</td>\n",
       "      <td>False</td>\n",
       "      <td>False</td>\n",
       "      <td>False</td>\n",
       "      <td>False</td>\n",
       "      <td>False</td>\n",
       "      <td>False</td>\n",
       "      <td>False</td>\n",
       "    </tr>\n",
       "    <tr>\n",
       "      <th>4</th>\n",
       "      <td>False</td>\n",
       "      <td>True</td>\n",
       "      <td>False</td>\n",
       "      <td>False</td>\n",
       "      <td>False</td>\n",
       "      <td>False</td>\n",
       "      <td>False</td>\n",
       "      <td>False</td>\n",
       "      <td>False</td>\n",
       "      <td>False</td>\n",
       "      <td>...</td>\n",
       "      <td>False</td>\n",
       "      <td>False</td>\n",
       "      <td>False</td>\n",
       "      <td>False</td>\n",
       "      <td>False</td>\n",
       "      <td>False</td>\n",
       "      <td>False</td>\n",
       "      <td>False</td>\n",
       "      <td>False</td>\n",
       "      <td>False</td>\n",
       "    </tr>\n",
       "    <tr>\n",
       "      <th>...</th>\n",
       "      <td>...</td>\n",
       "      <td>...</td>\n",
       "      <td>...</td>\n",
       "      <td>...</td>\n",
       "      <td>...</td>\n",
       "      <td>...</td>\n",
       "      <td>...</td>\n",
       "      <td>...</td>\n",
       "      <td>...</td>\n",
       "      <td>...</td>\n",
       "      <td>...</td>\n",
       "      <td>...</td>\n",
       "      <td>...</td>\n",
       "      <td>...</td>\n",
       "      <td>...</td>\n",
       "      <td>...</td>\n",
       "      <td>...</td>\n",
       "      <td>...</td>\n",
       "      <td>...</td>\n",
       "      <td>...</td>\n",
       "      <td>...</td>\n",
       "    </tr>\n",
       "    <tr>\n",
       "      <th>5994</th>\n",
       "      <td>False</td>\n",
       "      <td>False</td>\n",
       "      <td>False</td>\n",
       "      <td>False</td>\n",
       "      <td>False</td>\n",
       "      <td>False</td>\n",
       "      <td>False</td>\n",
       "      <td>False</td>\n",
       "      <td>False</td>\n",
       "      <td>False</td>\n",
       "      <td>...</td>\n",
       "      <td>False</td>\n",
       "      <td>False</td>\n",
       "      <td>False</td>\n",
       "      <td>False</td>\n",
       "      <td>False</td>\n",
       "      <td>False</td>\n",
       "      <td>False</td>\n",
       "      <td>False</td>\n",
       "      <td>False</td>\n",
       "      <td>False</td>\n",
       "    </tr>\n",
       "    <tr>\n",
       "      <th>5995</th>\n",
       "      <td>False</td>\n",
       "      <td>False</td>\n",
       "      <td>False</td>\n",
       "      <td>False</td>\n",
       "      <td>False</td>\n",
       "      <td>False</td>\n",
       "      <td>False</td>\n",
       "      <td>False</td>\n",
       "      <td>False</td>\n",
       "      <td>False</td>\n",
       "      <td>...</td>\n",
       "      <td>False</td>\n",
       "      <td>False</td>\n",
       "      <td>False</td>\n",
       "      <td>False</td>\n",
       "      <td>False</td>\n",
       "      <td>False</td>\n",
       "      <td>False</td>\n",
       "      <td>False</td>\n",
       "      <td>False</td>\n",
       "      <td>False</td>\n",
       "    </tr>\n",
       "    <tr>\n",
       "      <th>5996</th>\n",
       "      <td>False</td>\n",
       "      <td>False</td>\n",
       "      <td>False</td>\n",
       "      <td>False</td>\n",
       "      <td>False</td>\n",
       "      <td>False</td>\n",
       "      <td>False</td>\n",
       "      <td>True</td>\n",
       "      <td>False</td>\n",
       "      <td>False</td>\n",
       "      <td>...</td>\n",
       "      <td>False</td>\n",
       "      <td>False</td>\n",
       "      <td>False</td>\n",
       "      <td>False</td>\n",
       "      <td>False</td>\n",
       "      <td>False</td>\n",
       "      <td>False</td>\n",
       "      <td>False</td>\n",
       "      <td>False</td>\n",
       "      <td>False</td>\n",
       "    </tr>\n",
       "    <tr>\n",
       "      <th>5997</th>\n",
       "      <td>False</td>\n",
       "      <td>False</td>\n",
       "      <td>False</td>\n",
       "      <td>False</td>\n",
       "      <td>False</td>\n",
       "      <td>False</td>\n",
       "      <td>False</td>\n",
       "      <td>False</td>\n",
       "      <td>False</td>\n",
       "      <td>False</td>\n",
       "      <td>...</td>\n",
       "      <td>False</td>\n",
       "      <td>False</td>\n",
       "      <td>False</td>\n",
       "      <td>False</td>\n",
       "      <td>False</td>\n",
       "      <td>False</td>\n",
       "      <td>False</td>\n",
       "      <td>False</td>\n",
       "      <td>False</td>\n",
       "      <td>False</td>\n",
       "    </tr>\n",
       "    <tr>\n",
       "      <th>5998</th>\n",
       "      <td>False</td>\n",
       "      <td>False</td>\n",
       "      <td>False</td>\n",
       "      <td>False</td>\n",
       "      <td>False</td>\n",
       "      <td>False</td>\n",
       "      <td>False</td>\n",
       "      <td>False</td>\n",
       "      <td>False</td>\n",
       "      <td>False</td>\n",
       "      <td>...</td>\n",
       "      <td>False</td>\n",
       "      <td>False</td>\n",
       "      <td>False</td>\n",
       "      <td>False</td>\n",
       "      <td>False</td>\n",
       "      <td>False</td>\n",
       "      <td>False</td>\n",
       "      <td>False</td>\n",
       "      <td>False</td>\n",
       "      <td>False</td>\n",
       "    </tr>\n",
       "  </tbody>\n",
       "</table>\n",
       "<p>5999 rows × 536 columns</p>\n",
       "</div>"
      ],
      "text/plain": [
       "      Airline_AA  Airline_AS  Airline_B6  Airline_CO  Airline_DL  Airline_EV   \n",
       "0          False       False       False        True       False       False  \\\n",
       "1          False       False       False       False       False       False   \n",
       "2           True       False       False       False       False       False   \n",
       "3           True       False       False       False       False       False   \n",
       "4          False        True       False       False       False       False   \n",
       "...          ...         ...         ...         ...         ...         ...   \n",
       "5994       False       False       False       False       False       False   \n",
       "5995       False       False       False       False       False       False   \n",
       "5996       False       False       False       False       False       False   \n",
       "5997       False       False       False       False       False       False   \n",
       "5998       False       False       False       False       False       False   \n",
       "\n",
       "      Airline_F9  Airline_FL  Airline_HA  Airline_MQ  ...  AirportTo_TWF   \n",
       "0          False       False       False       False  ...          False  \\\n",
       "1          False       False       False       False  ...          False   \n",
       "2          False       False       False       False  ...          False   \n",
       "3          False       False       False       False  ...          False   \n",
       "4          False       False       False       False  ...          False   \n",
       "...          ...         ...         ...         ...  ...            ...   \n",
       "5994       False       False       False       False  ...          False   \n",
       "5995       False       False       False       False  ...          False   \n",
       "5996       False        True       False       False  ...          False   \n",
       "5997       False       False       False       False  ...          False   \n",
       "5998       False       False       False       False  ...          False   \n",
       "\n",
       "      AirportTo_TXK  AirportTo_TYR  AirportTo_TYS  AirportTo_VLD   \n",
       "0             False          False          False          False  \\\n",
       "1             False          False          False          False   \n",
       "2             False          False          False          False   \n",
       "3             False          False          False          False   \n",
       "4             False          False          False          False   \n",
       "...             ...            ...            ...            ...   \n",
       "5994          False          False          False          False   \n",
       "5995          False          False          False          False   \n",
       "5996          False          False          False          False   \n",
       "5997          False          False          False          False   \n",
       "5998          False          False          False          False   \n",
       "\n",
       "      AirportTo_VPS  AirportTo_WRG  AirportTo_XNA  AirportTo_YAK   \n",
       "0             False          False          False          False  \\\n",
       "1             False          False          False          False   \n",
       "2             False          False          False          False   \n",
       "3             False          False          False          False   \n",
       "4             False          False          False          False   \n",
       "...             ...            ...            ...            ...   \n",
       "5994          False          False          False          False   \n",
       "5995          False          False          False          False   \n",
       "5996          False          False          False          False   \n",
       "5997          False          False          False          False   \n",
       "5998          False          False          False          False   \n",
       "\n",
       "      AirportTo_YUM  \n",
       "0             False  \n",
       "1             False  \n",
       "2             False  \n",
       "3             False  \n",
       "4             False  \n",
       "...             ...  \n",
       "5994          False  \n",
       "5995          False  \n",
       "5996          False  \n",
       "5997          False  \n",
       "5998          False  \n",
       "\n",
       "[5999 rows x 536 columns]"
      ]
     },
     "execution_count": 46,
     "metadata": {},
     "output_type": "execute_result"
    }
   ],
   "source": [
    "X_cat"
   ]
  },
  {
   "cell_type": "code",
   "execution_count": 47,
   "metadata": {},
   "outputs": [],
   "source": [
    "from sklearn.preprocessing import StandardScaler\n",
    "\n",
    "scaler = StandardScaler()\n",
    "scaler.fit(X_num)\n",
    "\n",
    "X_scaled = scaler.transform(X_num)\n",
    "X_scaled = pd.DataFrame(X_scaled, index=X_num.index, columns=X_num.columns)\n",
    "\n",
    "X = pd.concat([X_scaled, X_cat], axis=1)\n",
    "y = df['Delay']"
   ]
  },
  {
   "cell_type": "code",
   "execution_count": 48,
   "metadata": {},
   "outputs": [
    {
     "name": "stdout",
     "output_type": "stream",
     "text": [
      "X_scaled\n",
      "         Flight      Time    Length\n",
      "0    -1.025160 -5.040175  1.027320\n",
      "1    -0.405651 -5.040175  1.269991\n",
      "2    -0.000976 -4.987220  0.456329\n",
      "3     0.030744 -4.987220  0.884572\n",
      "4    -1.102539 -4.881308  0.984496\n",
      "...        ...       ...       ...\n",
      "5994 -0.150927  1.695781 -0.699928\n",
      "5995  0.666594  1.706372 -0.014739\n",
      "5996 -1.104461  1.706372 -0.214586\n",
      "5997  1.969052  1.706372 -0.771302\n",
      "5998  2.135824  1.706372 -0.814126\n",
      "\n",
      "[5999 rows x 3 columns]\n",
      "X\n",
      "         Flight      Time    Length  Airline_AA  Airline_AS  Airline_B6   \n",
      "0    -1.025160 -5.040175  1.027320       False       False       False  \\\n",
      "1    -0.405651 -5.040175  1.269991       False       False       False   \n",
      "2    -0.000976 -4.987220  0.456329        True       False       False   \n",
      "3     0.030744 -4.987220  0.884572        True       False       False   \n",
      "4    -1.102539 -4.881308  0.984496       False        True       False   \n",
      "...        ...       ...       ...         ...         ...         ...   \n",
      "5994 -0.150927  1.695781 -0.699928       False       False       False   \n",
      "5995  0.666594  1.706372 -0.014739       False       False       False   \n",
      "5996 -1.104461  1.706372 -0.214586       False       False       False   \n",
      "5997  1.969052  1.706372 -0.771302       False       False       False   \n",
      "5998  2.135824  1.706372 -0.814126       False       False       False   \n",
      "\n",
      "      Airline_CO  Airline_DL  Airline_EV  Airline_F9  ...  AirportTo_TWF   \n",
      "0           True       False       False       False  ...          False  \\\n",
      "1          False       False       False       False  ...          False   \n",
      "2          False       False       False       False  ...          False   \n",
      "3          False       False       False       False  ...          False   \n",
      "4          False       False       False       False  ...          False   \n",
      "...          ...         ...         ...         ...  ...            ...   \n",
      "5994       False       False       False       False  ...          False   \n",
      "5995       False       False       False       False  ...          False   \n",
      "5996       False       False       False       False  ...          False   \n",
      "5997       False       False       False       False  ...          False   \n",
      "5998       False       False       False       False  ...          False   \n",
      "\n",
      "      AirportTo_TXK  AirportTo_TYR  AirportTo_TYS  AirportTo_VLD   \n",
      "0             False          False          False          False  \\\n",
      "1             False          False          False          False   \n",
      "2             False          False          False          False   \n",
      "3             False          False          False          False   \n",
      "4             False          False          False          False   \n",
      "...             ...            ...            ...            ...   \n",
      "5994          False          False          False          False   \n",
      "5995          False          False          False          False   \n",
      "5996          False          False          False          False   \n",
      "5997          False          False          False          False   \n",
      "5998          False          False          False          False   \n",
      "\n",
      "      AirportTo_VPS  AirportTo_WRG  AirportTo_XNA  AirportTo_YAK   \n",
      "0             False          False          False          False  \\\n",
      "1             False          False          False          False   \n",
      "2             False          False          False          False   \n",
      "3             False          False          False          False   \n",
      "4             False          False          False          False   \n",
      "...             ...            ...            ...            ...   \n",
      "5994          False          False          False          False   \n",
      "5995          False          False          False          False   \n",
      "5996          False          False          False          False   \n",
      "5997          False          False          False          False   \n",
      "5998          False          False          False          False   \n",
      "\n",
      "      AirportTo_YUM  \n",
      "0             False  \n",
      "1             False  \n",
      "2             False  \n",
      "3             False  \n",
      "4             False  \n",
      "...             ...  \n",
      "5994          False  \n",
      "5995          False  \n",
      "5996          False  \n",
      "5997          False  \n",
      "5998          False  \n",
      "\n",
      "[5999 rows x 539 columns]\n",
      "y\n",
      " 0       1\n",
      "1       1\n",
      "2       1\n",
      "3       1\n",
      "4       0\n",
      "       ..\n",
      "5994    1\n",
      "5995    0\n",
      "5996    0\n",
      "5997    0\n",
      "5998    1\n",
      "Name: Delay, Length: 5999, dtype: int64\n"
     ]
    }
   ],
   "source": [
    "print(\"X_scaled\\n\",X_scaled)\n",
    "print(\"X\\n\",X)\n",
    "print(\"y\\n\",y)"
   ]
  },
  {
   "attachments": {},
   "cell_type": "markdown",
   "metadata": {},
   "source": [
    "\n",
    "BUILDING MODEL\n"
   ]
  },
  {
   "cell_type": "code",
   "execution_count": 49,
   "metadata": {},
   "outputs": [
    {
     "data": {
      "text/html": [
       "<div>\n",
       "<style scoped>\n",
       "    .dataframe tbody tr th:only-of-type {\n",
       "        vertical-align: middle;\n",
       "    }\n",
       "\n",
       "    .dataframe tbody tr th {\n",
       "        vertical-align: top;\n",
       "    }\n",
       "\n",
       "    .dataframe thead th {\n",
       "        text-align: right;\n",
       "    }\n",
       "</style>\n",
       "<table border=\"1\" class=\"dataframe\">\n",
       "  <thead>\n",
       "    <tr style=\"text-align: right;\">\n",
       "      <th></th>\n",
       "      <th>Airline</th>\n",
       "      <th>Flight</th>\n",
       "      <th>AirportFrom</th>\n",
       "      <th>AirportTo</th>\n",
       "      <th>Time</th>\n",
       "      <th>Length</th>\n",
       "      <th>Delay</th>\n",
       "    </tr>\n",
       "  </thead>\n",
       "  <tbody>\n",
       "    <tr>\n",
       "      <th>0</th>\n",
       "      <td>CO</td>\n",
       "      <td>269</td>\n",
       "      <td>SFO</td>\n",
       "      <td>IAH</td>\n",
       "      <td>15</td>\n",
       "      <td>205</td>\n",
       "      <td>1</td>\n",
       "    </tr>\n",
       "    <tr>\n",
       "      <th>1</th>\n",
       "      <td>US</td>\n",
       "      <td>1558</td>\n",
       "      <td>PHX</td>\n",
       "      <td>CLT</td>\n",
       "      <td>15</td>\n",
       "      <td>222</td>\n",
       "      <td>1</td>\n",
       "    </tr>\n",
       "    <tr>\n",
       "      <th>2</th>\n",
       "      <td>AA</td>\n",
       "      <td>2400</td>\n",
       "      <td>LAX</td>\n",
       "      <td>DFW</td>\n",
       "      <td>20</td>\n",
       "      <td>165</td>\n",
       "      <td>1</td>\n",
       "    </tr>\n",
       "    <tr>\n",
       "      <th>3</th>\n",
       "      <td>AA</td>\n",
       "      <td>2466</td>\n",
       "      <td>SFO</td>\n",
       "      <td>DFW</td>\n",
       "      <td>20</td>\n",
       "      <td>195</td>\n",
       "      <td>1</td>\n",
       "    </tr>\n",
       "    <tr>\n",
       "      <th>4</th>\n",
       "      <td>AS</td>\n",
       "      <td>108</td>\n",
       "      <td>ANC</td>\n",
       "      <td>SEA</td>\n",
       "      <td>30</td>\n",
       "      <td>202</td>\n",
       "      <td>0</td>\n",
       "    </tr>\n",
       "  </tbody>\n",
       "</table>\n",
       "</div>"
      ],
      "text/plain": [
       "  Airline  Flight AirportFrom AirportTo  Time  Length  Delay\n",
       "0      CO     269         SFO       IAH    15     205      1\n",
       "1      US    1558         PHX       CLT    15     222      1\n",
       "2      AA    2400         LAX       DFW    20     165      1\n",
       "3      AA    2466         SFO       DFW    20     195      1\n",
       "4      AS     108         ANC       SEA    30     202      0"
      ]
     },
     "execution_count": 49,
     "metadata": {},
     "output_type": "execute_result"
    }
   ],
   "source": [
    "df.head()"
   ]
  },
  {
   "cell_type": "code",
   "execution_count": 50,
   "metadata": {},
   "outputs": [],
   "source": [
    "from sklearn.model_selection import train_test_split,cross_val_score\n",
    "\n",
    "train,test = np.split(df.sample(frac=1),[int(0.8*len(df))])\n",
    "\n",
    "X_train, X_test , y_train, y_test = train_test_split(X,y,test_size=0.2)"
   ]
  },
  {
   "attachments": {},
   "cell_type": "markdown",
   "metadata": {},
   "source": [
    "RandomForestClassifier"
   ]
  },
  {
   "cell_type": "code",
   "execution_count": 52,
   "metadata": {},
   "outputs": [
    {
     "name": "stdout",
     "output_type": "stream",
     "text": [
      "Score is :  0.6941666666666667\n",
      "              precision    recall  f1-score   support\n",
      "\n",
      "           0       0.71      0.89      0.79       763\n",
      "           1       0.65      0.35      0.45       437\n",
      "\n",
      "    accuracy                           0.69      1200\n",
      "   macro avg       0.68      0.62      0.62      1200\n",
      "weighted avg       0.68      0.69      0.67      1200\n",
      "\n"
     ]
    }
   ],
   "source": [
    "from sklearn.ensemble import RandomForestClassifier\n",
    "from sklearn.metrics import classification_report\n",
    "\n",
    "\n",
    "RandomForestClassifierModel = RandomForestClassifier()\n",
    "RandomForestClassifierModel.fit(X_train, y_train)\n",
    "y_pred = RandomForestClassifierModel.predict(X_test)\n",
    "print('Score is : ' , RandomForestClassifierModel.score(X_test, y_test))\n",
    "\n",
    "print(classification_report(y_test, y_pred))"
   ]
  },
  {
   "cell_type": "code",
   "execution_count": 62,
   "metadata": {},
   "outputs": [
    {
     "name": "stdout",
     "output_type": "stream",
     "text": [
      "cross validation scores:  [0.70625    0.696875   0.709375   0.69895833 0.70177268]\n",
      "Mean accuracy 0.7026462026416407\n"
     ]
    }
   ],
   "source": [
    "scores = cross_val_score(RandomForestClassifierModel,X_train, y_train,cv=5,scoring='accuracy')\n",
    "\n",
    "print(\"cross validation scores: \",scores)\n",
    "print(\"Mean accuracy\",scores.mean())"
   ]
  },
  {
   "attachments": {},
   "cell_type": "markdown",
   "metadata": {},
   "source": [
    "LogisticRegression"
   ]
  },
  {
   "cell_type": "code",
   "execution_count": 55,
   "metadata": {},
   "outputs": [
    {
     "name": "stdout",
     "output_type": "stream",
     "text": [
      "Score 0.6708333333333333\n",
      "              precision    recall  f1-score   support\n",
      "\n",
      "           0       0.70      0.85      0.77       763\n",
      "           1       0.58      0.36      0.45       437\n",
      "\n",
      "    accuracy                           0.67      1200\n",
      "   macro avg       0.64      0.61      0.61      1200\n",
      "weighted avg       0.65      0.67      0.65      1200\n",
      "\n"
     ]
    },
    {
     "name": "stderr",
     "output_type": "stream",
     "text": [
      "c:\\Users\\HARSHIT\\AppData\\Local\\Programs\\Python\\Python39\\lib\\site-packages\\sklearn\\linear_model\\_logistic.py:444: ConvergenceWarning: lbfgs failed to converge (status=1):\n",
      "STOP: TOTAL NO. of ITERATIONS REACHED LIMIT.\n",
      "\n",
      "Increase the number of iterations (max_iter) or scale the data as shown in:\n",
      "    https://scikit-learn.org/stable/modules/preprocessing.html\n",
      "Please also refer to the documentation for alternative solver options:\n",
      "    https://scikit-learn.org/stable/modules/linear_model.html#logistic-regression\n",
      "  n_iter_i = _check_optimize_result(\n"
     ]
    }
   ],
   "source": [
    "from sklearn.linear_model import LogisticRegression\n",
    "\n",
    "\n",
    "LogisticRegressionModel = LogisticRegression()\n",
    "LogisticRegressionModel = LogisticRegressionModel.fit(X_train,y_train)\n",
    "\n",
    "y_pred = LogisticRegressionModel.predict(X_test)\n",
    "acc = LogisticRegressionModel.score(X_test,y_test)\n",
    "\n",
    "print(\"Score\",accuracy_score(y_test,y_pred))\n",
    "print(classification_report(y_test, y_pred))"
   ]
  },
  {
   "attachments": {},
   "cell_type": "markdown",
   "metadata": {},
   "source": [
    "DecisionTreeClassifier"
   ]
  },
  {
   "cell_type": "code",
   "execution_count": 56,
   "metadata": {},
   "outputs": [
    {
     "name": "stdout",
     "output_type": "stream",
     "text": [
      "Score is :  0.6375\n",
      "              precision    recall  f1-score   support\n",
      "\n",
      "           0       0.70      0.76      0.73       763\n",
      "           1       0.50      0.43      0.46       437\n",
      "\n",
      "    accuracy                           0.64      1200\n",
      "   macro avg       0.60      0.59      0.59      1200\n",
      "weighted avg       0.63      0.64      0.63      1200\n",
      "\n"
     ]
    }
   ],
   "source": [
    "from sklearn.tree import DecisionTreeClassifier\n",
    "\n",
    "\n",
    "DecisionTreeClassifiermodel = DecisionTreeClassifier()\n",
    "DecisionTreeClassifiermodel.fit(X_train, y_train)\n",
    "y_pred = DecisionTreeClassifiermodel.predict(X_test)\n",
    "\n",
    "print('Score is : ' , DecisionTreeClassifiermodel.score(X_test, y_test))\n",
    "print(classification_report(y_test, y_pred))"
   ]
  },
  {
   "cell_type": "code",
   "execution_count": 63,
   "metadata": {},
   "outputs": [
    {
     "name": "stdout",
     "output_type": "stream",
     "text": [
      "cross validation scores:  [0.63645833 0.63854167 0.646875   0.65833333 0.64129301]\n",
      "Mean accuracy 0.6443002693778241\n"
     ]
    }
   ],
   "source": [
    "scores = cross_val_score(DecisionTreeClassifiermodel,X_train, y_train,cv=5,scoring='accuracy')\n",
    "\n",
    "print(\"cross validation scores: \",scores)\n",
    "print(\"Mean accuracy\",scores.mean())"
   ]
  },
  {
   "attachments": {},
   "cell_type": "markdown",
   "metadata": {},
   "source": [
    "SVM"
   ]
  },
  {
   "cell_type": "code",
   "execution_count": 65,
   "metadata": {},
   "outputs": [
    {
     "name": "stdout",
     "output_type": "stream",
     "text": [
      "Score 0.6958333333333333\n",
      "              precision    recall  f1-score   support\n",
      "\n",
      "           0       0.70      0.91      0.79       763\n",
      "           1       0.68      0.31      0.43       437\n",
      "\n",
      "    accuracy                           0.70      1200\n",
      "   macro avg       0.69      0.61      0.61      1200\n",
      "weighted avg       0.69      0.70      0.66      1200\n",
      "\n"
     ]
    }
   ],
   "source": [
    "from sklearn.svm import SVC\n",
    "\n",
    "svmModel = SVC()\n",
    "svmModel = svmModel.fit(X_train,y_train)\n",
    "y_pred = svmModel.predict(X_test)\n",
    "\n",
    "acc = svmModel.score(X_test,y_test)\n",
    "\n",
    "print(\"Score\",accuracy_score(y_test,y_pred))\n",
    "print(classification_report(y_test, y_pred))"
   ]
  },
  {
   "cell_type": "code",
   "execution_count": 66,
   "metadata": {},
   "outputs": [
    {
     "name": "stdout",
     "output_type": "stream",
     "text": [
      "cross validation scores:  [0.70208333 0.71666667 0.709375   0.69791667 0.70698644]\n",
      "Mean accuracy 0.7066056221758776\n"
     ]
    }
   ],
   "source": [
    "scores = cross_val_score(svmModel,X_train, y_train,cv=5,scoring='accuracy')\n",
    "\n",
    "print(\"cross validation scores: \",scores)\n",
    "print(\"Mean accuracy\",scores.mean())"
   ]
  },
  {
   "attachments": {},
   "cell_type": "markdown",
   "metadata": {},
   "source": [
    "KNN"
   ]
  },
  {
   "cell_type": "code",
   "execution_count": 70,
   "metadata": {},
   "outputs": [
    {
     "name": "stdout",
     "output_type": "stream",
     "text": [
      "Score 0.6516666666666666\n",
      "              precision    recall  f1-score   support\n",
      "\n",
      "           0       0.70      0.80      0.74       763\n",
      "           1       0.53      0.39      0.45       437\n",
      "\n",
      "    accuracy                           0.65      1200\n",
      "   macro avg       0.61      0.60      0.60      1200\n",
      "weighted avg       0.64      0.65      0.64      1200\n",
      "\n"
     ]
    }
   ],
   "source": [
    "from sklearn.neighbors import KNeighborsClassifier\n",
    "\n",
    "\n",
    "KNeighborsClassifierModel = KNeighborsClassifier()\n",
    "KNeighborsClassifierModel = KNeighborsClassifierModel.fit(X_train,y_train)\n",
    "\n",
    "y_pred = KNeighborsClassifierModel.predict(X_test)\n",
    "acc = KNeighborsClassifierModel.score(X_test,y_test)\n",
    "\n",
    "print(\"Score\",accuracy_score(y_test,y_pred))\n",
    "print(classification_report(y_test, y_pred))"
   ]
  },
  {
   "cell_type": "code",
   "execution_count": 71,
   "metadata": {},
   "outputs": [
    {
     "name": "stdout",
     "output_type": "stream",
     "text": [
      "cross validation scores:  [0.66666667 0.66770833 0.66145833 0.66875    0.67674661]\n",
      "Mean accuracy 0.6682659888773028\n"
     ]
    }
   ],
   "source": [
    "scores = cross_val_score(KNeighborsClassifierModel,X_train, y_train,cv=5,scoring='accuracy')\n",
    "\n",
    "print(\"cross validation scores: \",scores)\n",
    "print(\"Mean accuracy\",scores.mean())"
   ]
  }
 ],
 "metadata": {
  "kernelspec": {
   "display_name": "Python 3",
   "language": "python",
   "name": "python3"
  },
  "language_info": {
   "codemirror_mode": {
    "name": "ipython",
    "version": 3
   },
   "file_extension": ".py",
   "mimetype": "text/x-python",
   "name": "python",
   "nbconvert_exporter": "python",
   "pygments_lexer": "ipython3",
   "version": "3.9.0"
  },
  "orig_nbformat": 4
 },
 "nbformat": 4,
 "nbformat_minor": 2
}
